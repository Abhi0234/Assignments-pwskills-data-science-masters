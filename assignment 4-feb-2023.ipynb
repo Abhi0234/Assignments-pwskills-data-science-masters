{
 "cells": [
  {
   "cell_type": "code",
   "execution_count": null,
   "id": "a3ea8802-0b83-442b-8c36-28511fe2d07b",
   "metadata": {},
   "outputs": [],
   "source": [
    "# Q1. Create a python program to sort the given list of tuples based on integer value using a\n",
    "#     lambda function.\n",
    "#     [('Sachin Tendulkar', 34357), ('Ricky Ponting', 27483), ('Jack Kallis', 25534), ('Virat Kohli', 24936)]\n",
    "\n",
    "# Ans:\n",
    "\n",
    "l = [('Sachin Tendulkar', 34357), ('Ricky Ponting', 27483), ('Jack Kallis', 25534), ('Virat Kohli', 24936)]\n",
    "l.sort(key = lambda x : x[1])\n",
    "print(l)"
   ]
  },
  {
   "cell_type": "code",
   "execution_count": null,
   "id": "f51778c8-4398-4871-a73b-c21f532cfa6f",
   "metadata": {},
   "outputs": [],
   "source": [
    "# Q2. Write a Python Program to find the squares of all the numbers in the given list of integers using\n",
    "#    lambda and map functions.\n",
    "#     [1,2,3,4,5,6,7,8,9,10]\n",
    "\n",
    "# Ans:  \n",
    "l = [1,2,3,4,5,6,7,8,9,10]\n",
    "print(\"Given string : \", l ,\"\\n\")\n",
    "\n",
    "l1 = list(map(lambda x: x**2, l))\n",
    "print(\"The square of all the numbers in a given list is:\\n\",l1)"
   ]
  },
  {
   "cell_type": "code",
   "execution_count": null,
   "id": "b4fafa65-e711-4679-9768-83b6d4668baf",
   "metadata": {},
   "outputs": [],
   "source": [
    "# Q3.  Write a python program to convert the given list of integers into a tuple of strings. Use map and\n",
    "#      lambda functions\n",
    "#      Given String: [1, 2, 3, 4, 5, 6, 7, 8, 9, 10]\n",
    "#      Expected output: ('1', '2', '3', '4', '5', '6', '7', '8', '9', '10')\n",
    "\n",
    "# Ans:\n",
    "l = [1, 2, 3, 4, 5, 6, 7, 8, 9, 10]\n",
    "print(f\"Given list : {l}\\n\")\n",
    "l1 = tuple(map(lambda x: str(x), l))\n",
    "print(f\"tuple of strings is : {l1}\")"
   ]
  },
  {
   "cell_type": "code",
   "execution_count": null,
   "id": "399e86fa-6f4d-483f-9492-8491d58b5d94",
   "metadata": {},
   "outputs": [],
   "source": [
    "# Q4. Write a python program using reduce function to compute the product of a list containing numbers\n",
    "#     from 1 to 25.\n",
    "\n",
    "# Ans:\n",
    "from functools import reduce\n",
    "l = [i for i in range(1,26)]\n",
    "print(l)\n",
    "l1 = reduce(lambda x,y: x*y, l)\n",
    "print(f\"The product of all numbers from 1 to 25 is :{l1}\")"
   ]
  },
  {
   "cell_type": "code",
   "execution_count": null,
   "id": "64d7b91c-7fae-4cff-94fa-918cfc662919",
   "metadata": {},
   "outputs": [],
   "source": [
    "# Q5. Write a python program to filter the numbers in a given list that are divisible by 2 and 3 using the\n",
    "#     filter function.\n",
    "# [2, 3, 6, 9, 27, 60, 90, 120, 55, 46]\n",
    "\n",
    "# Ans:\n",
    "\n",
    "l =  [2, 3, 6, 9, 27, 60, 90, 120, 55, 46]\n",
    "l1 = list(filter(lambda x: x%2== 0 and x%3==0, l))\n",
    "print(f\"the Number divisble by 2 and 3 is: {l1}\")"
   ]
  },
  {
   "cell_type": "code",
   "execution_count": null,
   "id": "949f26eb-db7b-4aad-88fe-83d085166f48",
   "metadata": {},
   "outputs": [],
   "source": [
    "# Q6. Write a python program to find palindromes in the given list of strings using lambda and filter\n",
    "#    function.\n",
    "#    ['python', 'php', 'aba', 'radar', 'level']\n",
    "\n",
    "# Ans:\n",
    "print(\"Mathod 1\\n\")\n",
    "\n",
    "l = ['python', 'php', 'aba', 'radar', 'level', 'nitin' ]\n",
    "print(f\"Given list : {l}\\n\")\n",
    "\n",
    "l1 = list(filter(lambda x: (x == x[::-1]), l))\n",
    "print(f\"palindromes in the given list is : {l1}\")\n",
    "\n",
    "\n",
    "\n",
    "print(\"\\nMathod 2\\n\")\n",
    "\n",
    "l = ['python', 'php', 'aba', 'radar', 'level', ]\n",
    "print(f\"Given list : {l}\\n\")\n",
    "\n",
    "l1 = list(filter(lambda x: (x == ''.join(reversed(x))), l))\n",
    "print(f\"palindromes in the given list is : {l1}\")"
   ]
  }
 ],
 "metadata": {
  "kernelspec": {
   "display_name": "Python 3 (ipykernel)",
   "language": "python",
   "name": "python3"
  },
  "language_info": {
   "codemirror_mode": {
    "name": "ipython",
    "version": 3
   },
   "file_extension": ".py",
   "mimetype": "text/x-python",
   "name": "python",
   "nbconvert_exporter": "python",
   "pygments_lexer": "ipython3",
   "version": "3.10.6"
  }
 },
 "nbformat": 4,
 "nbformat_minor": 5
}
