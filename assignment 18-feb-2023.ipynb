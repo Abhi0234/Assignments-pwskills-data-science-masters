{
 "cells": [
  {
   "cell_type": "markdown",
   "id": "dc6e5b6f-e16a-40af-baf6-e50961436f5a",
   "metadata": {},
   "source": [
    "Q1. What is an API? Give an example, where an api is used in real life.\n",
    "\n",
    "Ans: API : An API allows two softwere application to interect with each other by shearing data and functionality. An API act as a mediator between two application, enabling them to communicate with each other.\n",
    "\n",
    "One of an example of API used in real life is the Google Maps API.\n",
    "\n",
    "for example, a ridesharing app like uber or ola uses the google maps api to display thr rider's current location and the location of nearby drivers."
   ]
  },
  {
   "cell_type": "markdown",
   "id": "d07c7232-44e2-4e3f-b84c-8f2a26c26da8",
   "metadata": {},
   "source": [
    "Q2. Give advantage and disadvantage of API?\n",
    "\n",
    "Ans: \n",
    "1 Advantage:\n",
    "    \n",
    "1. Flexibility: APIs provide a flexible way for developers to integrate their applications with other software or services, allowing them to leverage existing functionality and data.\n",
    "2. Scalability: APIs can be designed to handle large volumes of requests and data, making it easier to scale applications as needed.\n",
    "3. Faster development: Developers can save time and resources by using existing APIs rather than building functionality from scratch.\n",
    "\n",
    "2 disadvantage:\n",
    "\n",
    "1. Complexity: APIs can be complex to design and implement, requiring a high level of technical expertise.\n",
    "2. Maintenance: APIs require ongoing maintenance and updates to ensure they remain functional and secure, which can be time-consuming and costly.\n",
    "3. Compatibility issues: APIs may not be compatible with all platforms and devices, which can limit their usefulness.\n",
    "4. Security risks: APIs can introduce security vulnerabilities if not designed and implemented correctly, potentially exposing sensitive data to unauthorized access."
   ]
  },
  {
   "cell_type": "markdown",
   "id": "38d1fe56-c905-4fb3-99ab-068af88f7bee",
   "metadata": {},
   "source": [
    "Q3. What is a Web API? Differentiate between API and Web API.\n",
    "\n",
    "Ans:\n",
    "A web API is a subset of API that specially designed for interct with web-based applications. A web API typically uses HTTP requests to exchange data between client applications and web servers.\n",
    "There are main two type of Web APIs\n",
    "1 RESTful API\n",
    "2 SOAP API\n",
    "\n",
    "The main difference between API and Web API is that an API is a more general term that can refer to any type of interface that allows different software applications to communicate with each other, while a Web API specifically refers to an API that is designed to interact with web-based applications."
   ]
  },
  {
   "cell_type": "markdown",
   "id": "d3618b1b-4374-4588-8ebe-f1425a735e5c",
   "metadata": {},
   "source": [
    "Q4. Explain REST and SOAP Architecture. Mention shortcomings of SOAP.\n",
    "\n",
    "Ans: \n",
    "1. REST Architecture:\n",
    "\n",
    "REST stands for Representational state transfer. It is an architectural style that uses HTTP requests and responses to exchange data between client and server. RESTful APIs are designed around the concept of resources, which are identified by URIs (Uniform Resource Identifiers). RESTful APIs typically use HTTP verbs like GET, POST, PUT, and DELETE to perform CRUD (Create, Read, Update, Delete) operations on these resources. RESTful APIs are known for their simplicity, scalability, and flexibility, and are widely used for building web APIs.\n",
    "\n",
    "2. SOAP Architecture: \n",
    "\n",
    "SOAP Stands for Simple object access protocol. It is an architecture style that uses XML request and responce to exchange data between client and server over internet. SOAP APIs are more complex than RESTful APIs, and require more overhead in terms of processing and bandwidth. However, SOAP APIs also offer more advanced features such as encryption, authentication, and reliable messaging.\n",
    "\n",
    "Shortcomings of SOAP:\n",
    "\n",
    "1. flaxibility: SOAP API is less flaxible the REST APIs.\n",
    "2. Complexity: SOAP is more complex than RESTful APIs and can be difficult to implement and maintain. \n",
    "3. Limited browser support: SOAP is not widely supported by web browsers, making it less suitable for web-based applications."
   ]
  },
  {
   "cell_type": "markdown",
   "id": "a6dcd7d3-694c-43df-aa62-5a53fe26628d",
   "metadata": {},
   "source": [
    "Q5. Differentiate between REST and SOAP.\n",
    "\n",
    "Ans:\n",
    "\n",
    "REST (Representational State Transfer) and SOAP (Simple Object Access Protocol) are two different architectural styles used to design web APIs. Here are some key differences between REST and SOAP:\n",
    "\n",
    "1. Protocol: RESTful APIs use HTTP protocol, while SOAP APIs use a custom protocol on top of HTTP.\n",
    "2. Message format: RESTful APIs usually send and receive data in JSON or XML format, while SOAP APIs use XML exclusively.\n",
    "3. Transport: RESTful APIs use lightweight transports like HTTP, while SOAP APIs rely on more heavy-duty protocols like TCP or SMTP.\n",
    "4. Architecture: REST is a resource-based architecture, while SOAP is a service-based architecture.\n",
    "5. Flexibility: RESTful APIs are more flexible than SOAP APIs, as they allow for a wide variety of data formats and are easily scalable.\n",
    "6. Ease of use: RESTful APIs are generally easier to use than SOAP APIs, as they use standard HTTP verbs and simple URL structures.\n",
    "7. Caching: RESTful APIs are more caching-friendly than SOAP APIs, as they can use HTTP caching mechanisms for better performance.\n",
    "8. Security: SOAP APIs offer more built-in security features than RESTful APIs, including encryption, authentication, and access control.    "
   ]
  }
 ],
 "metadata": {
  "kernelspec": {
   "display_name": "Python 3 (ipykernel)",
   "language": "python",
   "name": "python3"
  },
  "language_info": {
   "codemirror_mode": {
    "name": "ipython",
    "version": 3
   },
   "file_extension": ".py",
   "mimetype": "text/x-python",
   "name": "python",
   "nbconvert_exporter": "python",
   "pygments_lexer": "ipython3",
   "version": "3.10.8"
  }
 },
 "nbformat": 4,
 "nbformat_minor": 5
}
