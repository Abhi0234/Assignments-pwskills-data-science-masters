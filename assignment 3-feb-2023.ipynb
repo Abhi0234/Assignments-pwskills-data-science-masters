{
 "cells": [
  {
   "cell_type": "code",
   "execution_count": 2,
   "id": "251022b2-ef66-432f-817b-77638eb82ae4",
   "metadata": {},
   "outputs": [],
   "source": [
    "# Que 1: Which keyword is used to creata a fucnction? Create a function to return a list of odd numbers in\n",
    "#        the range of 1 to 25\n",
    "\n",
    "\n",
    "''' Ans 1: \"def\" keyword is used to creat a function.'''\n",
    "def odd_num():\n",
    "    li = []\n",
    "    for i in range(1,25):\n",
    "        if i%2 != 0:\n",
    "            li.append(i)\n",
    "    return li\n",
    "print(\"The list of odd numbers in the range of 1 to 25 is:\")\n",
    "odd_num()"
   ]
  },
  {
   "cell_type": "code",
   "execution_count": 2,
   "id": "f20dfe0d-7c7b-4a37-817b-5bff8b212d59",
   "metadata": {},
   "outputs": [],
   "source": [
    "# Que 2: why *args and **kwargs is used in some functions? xreate a function each for *args and**kwargs to demonstrate their use.\n",
    "\n",
    "\n",
    "''' Ans:  you can use *args and **kwargs as arguments in function when you unsure about the number of arguments to pass in the function.In which\n",
    "         *args is used for the non keyword values and it returns a tuple while **kwargs is used for keyword value and it returns a dictionary.'''\n",
    "\n",
    "# Example :\n",
    "print(\"Function for *args\\n\")\n",
    "def Fun(*args):  \n",
    "    return args\n",
    "\n",
    "print(Fun(1,2,3,4,5,6))\n",
    "\n",
    "print(\"\\nFunction for **kwargs\\n\")\n",
    "\n",
    "def Fun(**kwargs):\n",
    "    return kwargs\n",
    "\n",
    "print(Fun(a = [1,2,3,4] , b = \"sudh\" , c = 23.45))"
   ]
  },
  {
   "cell_type": "code",
   "execution_count": 2,
   "id": "f3a83b47-fc39-4b62-b5f5-b3d4a5b36df2",
   "metadata": {},
   "outputs": [],
   "source": [
    "# Que 3: What is an iterator in python? Name the method used to initialise the iterator object and the method\n",
    "#        used for iteration. Use these methods to print the first five elements of the given \n",
    "#        list [2, 4, 6, 8, 10, 12, 14,16, 18, 20].\n",
    "\n",
    "''' Ans:  Iterator in Python is an object that is used to iterate over iterable objects like lists, tuples, dicts, and sets.\n",
    "          The iterator object is initialized using the iter() method. It uses the next() method for iteration. \n",
    "          The next method returns the next value for the iterable.'''\n",
    "\n",
    "print(\"Given list\")\n",
    "l = [2,4,6,8,10,12,14,16,18,20]\n",
    "print(l)\n",
    "l_iter = iter(l)\n",
    "# print(type(l1))\n",
    "print(\"The first five element of given list is  :\")\n",
    "for i in range(5):\n",
    "     print(next(l_iter))"
   ]
  },
  {
   "cell_type": "code",
   "execution_count": 2,
   "id": "21ef72d8-7aa4-4112-ab89-45c28feb9304",
   "metadata": {},
   "outputs": [],
   "source": [
    "# Que 4: What is a generator function in python? Why yield keyword is used? Give an example of a generator\n",
    "#        function\n",
    "\n",
    "'''Ans:  generator function : In python Regular functions compute a value and return it but generators \n",
    "        return an iterator that returns a stream of values. Generators are useful when we want to\n",
    "        produce a large sequence of values, but we don't want to store all of them in memory at once.\n",
    "      \n",
    "      yield Keyword : yield keyword is used to create a generator function. We should use yield when \n",
    "          we want to iterate over a sequence, but don't want to store the entire sequence in memory.\n",
    "        \n",
    "Example : function genterator to print first 10 odd no.'''\n",
    "def odd_num():\n",
    "    a = 0   \n",
    "    while True:\n",
    "        if a%2 != 0:\n",
    "            yield(a)\n",
    "        a +=1\n",
    "\n",
    "fib = odd_num()\n",
    "li = []\n",
    "for i in range(10):\n",
    "    (li.append(next(fib)))\n",
    "print(f\"the first {i+1} odd Number is: \\n {li}\")"
   ]
  },
  {
   "cell_type": "code",
   "execution_count": 2,
   "id": "2150e4c3-0ceb-4f84-9330-b22bb0174a73",
   "metadata": {},
   "outputs": [],
   "source": [
    "# Que 5: Create a generator function for prime numbers less than 1000. Use the next() method to print the\n",
    "#        first 20 prime numbers.\n",
    "# Ans: \n",
    "    \n",
    "def prime_num():        \n",
    "    for num in range(1000):\n",
    "       # all prime numbers are greater than 1\n",
    "       if num > 1:\n",
    "           for i in range(2, num):\n",
    "               if (num % i) == 0:\n",
    "                   break\n",
    "           else:\n",
    "                yield(num)\n",
    "p_num = iter(prime_num())\n",
    "print(\"The first 20 prime nUmbers are :\")\n",
    "for i in range(20):\n",
    "    print(next(p_num))\n",
    "           "
   ]
  },
  {
   "cell_type": "code",
   "execution_count": 2,
   "id": "247e3020-c0d2-44ce-99a7-6404a225a62e",
   "metadata": {},
   "outputs": [],
   "source": [
    "# Que 6 Write a python program to print the first 10 Fibonacci using while loop>\n",
    "\n",
    "\n",
    "# Ans:\n",
    "count = 1\n",
    "a = 0\n",
    "b = 1\n",
    "print(\"First 10 Fibonacci Number is:\")\n",
    "while count <= 10:\n",
    "    print(a)\n",
    "    temp = a+b\n",
    "    a = b\n",
    "    b = temp\n",
    "    count += 1\n",
    "    "
   ]
  },
  {
   "cell_type": "code",
   "execution_count": 2,
   "id": "3c3c8920-058c-401e-9c37-16e253c3aaaf",
   "metadata": {},
   "outputs": [],
   "source": [
    "# Que 7 Write a list comprehension to itereate through the given string : 'pwskills'\n",
    "#        Expected output: ['p','w','s','k','i','l','l','s']\n",
    "\n",
    "# Ans:\n",
    "string = \"pwskills\"\n",
    "print(f\"Given string : {string}\")\n",
    "l = [i for i in \"pwskills\" ]\n",
    "print(\"output:\\n\",l)"
   ]
  },
  {
   "cell_type": "code",
   "execution_count": 2,
   "id": "bf59b3ca-317b-4377-8f93-61d4967e0555",
   "metadata": {},
   "outputs": [],
   "source": [
    "# Que 8: Write a python program to cheak wheather a given number is palindrome or not using a while loop.\n",
    "\n",
    "\n",
    "# Ans:\n",
    "num = int(input(\"Enter Number :\"))\n",
    "temp = num\n",
    "reverse = 0\n",
    "while num > 0:\n",
    "    digit = num%10\n",
    "    reverse = reverse*10 + digit\n",
    "    num = int(num/10)\n",
    "if temp == reverse:\n",
    "    print(f\"Yes, {temp} is a Palindrome Number\")\n",
    "else:\n",
    "    print(f\"No, {temp} is not a Palindrome Number\")"
   ]
  },
  {
   "cell_type": "code",
   "execution_count": 2,
   "id": "d1f0c8ed-f668-4c88-853a-82b15b1d6c4c",
   "metadata": {},
   "outputs": [],
   "source": [
    "# Que 9 Write a code to print odd numbers from ito 100 using list comprehension.\n",
    "# note : use a list comprehention to creat a list from 1 to 100 and use another list comprehention to filter out odd number.\n",
    "\n",
    "# Ans:\n",
    "list1 = [i for i in range(1, 101)]\n",
    "odd = [ i for i in list1 if i % 2 != 0]\n",
    "print(odd)"
   ]
  }
 ],
 "metadata": {
  "kernelspec": {
   "display_name": "Python 3 (ipykernel)",
   "language": "python",
   "name": "python3"
  },
  "language_info": {
   "codemirror_mode": {
    "name": "ipython",
    "version": 3
   },
   "file_extension": ".py",
   "mimetype": "text/x-python",
   "name": "python",
   "nbconvert_exporter": "python",
   "pygments_lexer": "ipython3",
   "version": "3.10.6"
  }
 },
 "nbformat": 4,
 "nbformat_minor": 5
}
