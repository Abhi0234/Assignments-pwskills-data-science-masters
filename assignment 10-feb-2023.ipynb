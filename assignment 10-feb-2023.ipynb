{
 "cells": [
  {
   "cell_type": "code",
   "execution_count": null,
   "id": "feac284d-b810-40df-a9ab-3a7c451ed2b4",
   "metadata": {},
   "outputs": [],
   "source": [
    "Q1. Which function is used to open a file? What are the different modes of opening a file? Explain each mode of file opening.\n",
    "\n",
    "\n",
    "Ans: The \"open()\" function is used to open a file.\n",
    "\n",
    "for example:  \n",
    "      file = open(\"filename.extension\", \"mode\")\n",
    "\n",
    "The different modes of opening a file in python are:\n",
    "    \n",
    "1 \"r\" (read mode) : This mode is used to read a existing file, if the file does not exist then it gives an error, you cannot \n",
    "                     write in a file using this mode.\n",
    "    \n",
    "2 \"w\" (write mode) : This mode is used to write to a file. if the file dosen't exists it create a new file automatically. but\n",
    "                    if file exists its content will be overwritten.\n",
    "    \n",
    "3 \"a\" (append mode) : This mode is used to append new content in a file. if the file exist it append the data on it but if file\n",
    "                    dosen't exist it will create a new file.\n",
    "    \n",
    "4 \"b\" (binery mode) : This mode is used to open a binery file, such as Images or videos.The binery mode is combine with other \n",
    "                       mode to open binery file in that mode. for Example: \"wb\"  for write mode and \"rb\" for read mode. \n",
    "    \n",
    "5 \"x\" (Exclusive creation mode) : This mode is used to create a new file, but only if the file does not already exist. If the\n",
    "                                 file already exists, the open() function will raise a FileExistsError exception.\n",
    "    \n",
    "6 \"w+\" (write and read): This mode is used for both writing and reading .\n",
    "\n",
    "7 \"r+\" (read and write): This mode is used for reading and writing."
   ]
  },
  {
   "cell_type": "code",
   "execution_count": null,
   "id": "fd51e816-e739-4fc3-962b-c02e13bfc576",
   "metadata": {},
   "outputs": [],
   "source": [
    "Q.2: Why close() function is used? why it is important to close a file?\n",
    "\n",
    "Ans : In python, \"Close()\" function is used to closes an open file in python. The close() function ensures that any changes\n",
    "      you are mode with the file is saved.\n",
    "\n",
    "There are certain reasons to close a file:\n",
    "    \n",
    "    1 When you open a file ,the system reserve a certain amount of memory and other resources for the file. if too many \n",
    "      files left open , then the performance of system becomes slow or even system crashes.\n",
    "        \n",
    "    2 If you make changes to a file and forget to close it, the changes may not be saved, and you may lose your work.\n",
    "    \n",
    "    3 If the file do not closed properly, it may possible that the content on the file becomes corrupted or damaged.\n",
    "    "
   ]
  },
  {
   "cell_type": "code",
   "execution_count": 11,
   "id": "47fe190e-7d25-44dc-8f6b-42796148a933",
   "metadata": {},
   "outputs": [
    {
     "name": "stdout",
     "output_type": "stream",
     "text": [
      "I want to become a Data scientist\n"
     ]
    }
   ],
   "source": [
    "# Q3. Write a python program to create a text file. Write ‘I want to become a Data Scientist’ in that file. Thenclose the\n",
    "#     file. Open this file and read the content of the file.\n",
    "\n",
    "# Ans: \n",
    "f = open(\"newfile\", \"w\")  #open and create a new file\n",
    "f.write(\"I want to become a Data scientist\")  #write text\"\n",
    "f.close()\n",
    "\n",
    "f = open(\"newfile\", \"r\")   #open file in read mode\n",
    "reader = f.read()  \n",
    "print(reader)\n",
    "f.close()"
   ]
  },
  {
   "cell_type": "code",
   "execution_count": null,
   "id": "c40c581c-e132-4c3d-af03-f36cbe59a110",
   "metadata": {},
   "outputs": [],
   "source": [
    "# Q4. Explain the following with python code: read(), readline() and readlines().\n",
    "\n",
    "# Ans: In python read(), readline() and readlines() are three method for reading from a file.\n",
    "\n",
    "# read() : This method reads the entire contant of a file and return it as a string. The contents of the entire\n",
    "#          file are read and returned as a single string, including all the newline characters (\\n).\n",
    "#     Example:\n",
    "        \n",
    "with open(\"file.txt\", \"r\") as f:\n",
    "    content = f.read()\n",
    "    print(content)\n",
    "    \n",
    "# readline : This method reads the single line of a file and return it as a string.This means that if you use readline,\n",
    "#              you can read the contents of a file line by line, which can be useful for processing large files that do\n",
    "#               not fit in memory.\n",
    "      # Example\n",
    "    # In the above example, the while loop continues to read lines from the file until readline returns an empty string,\n",
    "#  indicating the end of the file. The strip method is used to remove the line terminator from each line\n",
    "    \n",
    "with open(\"file.txt\", \"r\") as f:\n",
    "    content = f.readline()\n",
    "    \n",
    "    while content:\n",
    "        print(content.strip())\n",
    "        content = f.readline()\n",
    "        \n",
    "\n",
    "# readlines : This method reads the entire contant of file and return it as a list of string. where each element of the \n",
    "#              list is a single line of the file.\n",
    "#     for example\n",
    "    \n",
    "with open(\"file.txt\", \"r\") as f:\n",
    "    content = f.readlines()\n",
    "    print(content)"
   ]
  },
  {
   "cell_type": "code",
   "execution_count": null,
   "id": "d86e3739-d9b6-4474-8000-8c613b9cbced",
   "metadata": {},
   "outputs": [],
   "source": [
    "# Q5. Explain why with statement is used with open(). What is the advantage of using with statement and\n",
    "# open() together?\n",
    "# Ans: \n",
    "#     The with statement is used with open() in Python to ensure that the file is properly managed and closed\n",
    "#     after theblock of code inside the with statement has been executed, even if exceptions are thrown. This \n",
    "#     is known as a \"context manager\".\n",
    "    \n",
    "#     when we use \"with\" statement with open() it close the file automatically when the block of code inside \n",
    "#     the \"with\" statement is finished.which helps us to prevent the file from damage\n",
    "    \n",
    "#     for example: In this Example, \"file.txt\" opened for reading, but when the block of code execute complately\n",
    "#                   then with statemnt automatically close the file.\n",
    "        \n",
    "        \n",
    "with open('file.txt', 'r') as f:\n",
    "    data = f.read()\n",
    "    # Do something with the file data\n",
    "\n",
    "# The file is automatically closed here"
   ]
  },
  {
   "cell_type": "code",
   "execution_count": 15,
   "id": "420acdcd-0a5b-4243-8c0a-85b16ca2c1c9",
   "metadata": {},
   "outputs": [],
   "source": [
    "# Q6. Explain the write() and writelines() functions. Give a suitable example.\n",
    "\n",
    "# Ans: \"Write()\" and \"writelines()\" methods are used to write the content in the file.\n",
    "\n",
    "# write() : It is used to write a string to a text file. the syntex of this function is : file.write(string)\n",
    "#              In this syntex \"file\" is the object and \"string\" is the string you want to write in a file.\n",
    "    \n",
    "#     for Example : In this Example \"write()\" is used to write the string \"Pwskills\" to the file \"text.txt\".\n",
    "    \n",
    "with open(\"text.txt\", \"w\") as file:\n",
    "    file.write(\"Pwskills\")\n",
    "\n",
    "\n",
    "\n",
    "    \n",
    "# writelines() : It is used to write a list of string to a text file. The syntex of this function is : file.writelines(lst)\n",
    "#               In this syntex \"file\" is the object and \"lst\" is the list of string that you want to write to a file.\n",
    "    \n",
    "#     for example : In this Example \"writelines()\" is used to write the list of string \"lst\" to the file \"text.txt\".\n",
    "    \n",
    "with open(\"text.txt\", \"w\") as file:\n",
    "    lst = [\"pwskills \\n\" , \"Data science masters \\n\", \"ml \\n\"  , \"dl \\n\"]\n",
    "    file.writelines(lst)"
   ]
  }
 ],
 "metadata": {
  "kernelspec": {
   "display_name": "Python 3 (ipykernel)",
   "language": "python",
   "name": "python3"
  },
  "language_info": {
   "codemirror_mode": {
    "name": "ipython",
    "version": 3
   },
   "file_extension": ".py",
   "mimetype": "text/x-python",
   "name": "python",
   "nbconvert_exporter": "python",
   "pygments_lexer": "ipython3",
   "version": "3.10.6"
  }
 },
 "nbformat": 4,
 "nbformat_minor": 5
}
