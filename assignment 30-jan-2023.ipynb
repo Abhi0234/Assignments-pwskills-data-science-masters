{
 "cells": [
  {
   "cell_type": "code",
   "execution_count": 1,
   "id": "deedd3ef-c193-47c4-b177-de366563906e",
   "metadata": {},
   "outputs": [],
   "source": [
    "# Que 1 write a program to accept the percentage from the user and display the grade according tothe following criteria:\n",
    "#       marks         grade\n",
    "#       >90             A\n",
    "#       >80 and <=90    B\n",
    "#       >=60 and <=80   c\n",
    "#       below 60        D\n",
    "# Ans:\n",
    "\n",
    "Marks = int(input(\"Enter your marks :\")) \n",
    "if Marks > 90:\n",
    "    print(\"You have got grade 'A'\")\n",
    "elif Marks > 80 and Marks <=90:\n",
    "    print(\"You have got grade 'B'\")\n",
    "elif Marks >= 60 and Marks <= 80:\n",
    "    print(\"You have got grade 'c'\")\n",
    "else:\n",
    "    print(\"You have got grade 'D'\")"
   ]
  },
  {
   "cell_type": "code",
   "execution_count": 1,
   "id": "7747c1ec-1c65-4984-937a-935b7c044d0e",
   "metadata": {},
   "outputs": [],
   "source": [
    "# Que 2 Write a program to accept the cost of a bike and display the roadtax to be paid acording to the following criteria:\n",
    "#        Tax       cost price(in rs)\n",
    "#         15%         >100000     \n",
    "#         10%         >50000 and <= 100000\n",
    "#         5%          <= 50000\n",
    "# Ans:\n",
    "\n",
    "cost_price = int(input(\"Enter the cost price of bike :\"))\n",
    "\n",
    "if cost_price > 100000:\n",
    "    print(\"Payable tax on this bike : Rs\",(15/100)*cost_price )\n",
    "elif cost_price > 50000 and cost_price <= 100000:\n",
    "    print(\"Payable tax on this bike : Rs\",(10/100)*cost_price )\n",
    "else:\n",
    "    print(\"Payable tax on this bike : Rs\",(5/100)*cost_price )\n",
    "        "
   ]
  },
  {
   "cell_type": "code",
   "execution_count": 1,
   "id": "1025070c-be56-4261-ac7e-2d2991045604",
   "metadata": {},
   "outputs": [],
   "source": [
    "# Que 3 Accept any cityform the user and display monuments of that city.\n",
    "#   city      Monuments\n",
    "#   Dehli      Red fort\n",
    "#   Agra       Taj mahal\n",
    "#   jaipur     Jal mahal\n",
    "# Ans\n",
    "\n",
    "print(\"Enter any one city from these : 'Dehli', 'Agra', 'jaipur'\")\n",
    "city = input(\"Enter city name : \").upper()\n",
    "if city == \"DEHLI\":\n",
    "    print(\"the famous monument of Dehli is 'Red Fort'\")\n",
    "elif city == \"AGRA\":\n",
    "    print(\"the famous monument of Agra is 'Taj Mahal'\")\n",
    "elif city == \"JAIPUR\":\n",
    "    print(\"The famous monoment of Jaipur is 'Jal Mahal'\")\n",
    "else:\n",
    "    print(\"INVALID INPUT\")"
   ]
  },
  {
   "cell_type": "code",
   "execution_count": 1,
   "id": "9bcd211b-79da-47b9-845d-874a227faae3",
   "metadata": {},
   "outputs": [],
   "source": [
    "# Que 4 Cheak how many times a given number can  be divided by 3 before it is less than or equal to 10.\n",
    "# ans:\n",
    "\n",
    "num = int(input(\"Enter Number : \"))\n",
    "count = 0\n",
    "while num > 10:\n",
    "    num = num/3\n",
    "    if num <= 10:\n",
    "        break\n",
    "    count += 1\n",
    "print(\"Answer :\",count, \"times\")"
   ]
  },
  {
   "cell_type": "code",
   "execution_count": 1,
   "id": "92ae618c-ceb7-46cd-af40-74c299f0cb33",
   "metadata": {},
   "outputs": [],
   "source": [
    "Que 5 Why and when to use while loop in python give a detailed discription with example\n",
    "Ans:  The while loop is used to iterate a block of code multiple times until the given condition is true.\n",
    "      it is useful when we can't specify terminating condition of the loop. it is useful because it checks\n",
    "      the condition every time before executing the code inside it which for loop doesn't.\n",
    "Example :\n",
    "    \n",
    "# program to display numbers from 1 to 5\n",
    "\n",
    "# initialize the variable\n",
    "i = 1\n",
    "n = 5\n",
    "\n",
    "# while loop from i = 1 to 5\n",
    "while i <= n:\n",
    "    print(i)\n",
    "    i = i + 1\n",
    "      "
   ]
  },
  {
   "cell_type": "code",
   "execution_count": 1,
   "id": "9b9dba45-4545-492b-83d5-60470014f2d1",
   "metadata": {},
   "outputs": [],
   "source": [
    "# Que 6 Use nesteed while loop to print 3 different pattern.\n",
    "# Ans:\n",
    "    \n",
    "print(\"\\n pattern 1 \\n\")\n",
    "\n",
    "n = int(input(\"Enter number of rows : \"))\n",
    "i = 1\n",
    "while i <= n:\n",
    "    j = 1\n",
    "    while j <= i:\n",
    "        print(\"*\", end = \" \")\n",
    "        j += 1\n",
    "    print( )\n",
    "    i+=1\n",
    "    \n",
    "\n",
    "print(\"\\n pattern 2 \\n\")\n",
    "\n",
    "\n",
    "i = 1\n",
    "while i <= n:\n",
    "    j = n\n",
    "    while j >= i:\n",
    "        print(\"*\", end = \" \")\n",
    "        j -= 1\n",
    "    print( )\n",
    "    i+=1\n",
    "    \n",
    "print(\"\\n pattern 3 \\n\")\n",
    "\n",
    "i = 1\n",
    "while i <= n:\n",
    "    j = 0\n",
    "    while j <= n:\n",
    "        print(j , end = \" \" )\n",
    "        j += 1\n",
    "    print( )\n",
    "    i += 1\n",
    "    "
   ]
  },
  {
   "cell_type": "code",
   "execution_count": 1,
   "id": "44e9d3d5-424a-46d7-9185-4cf55ed1dc02",
   "metadata": {},
   "outputs": [],
   "source": [
    "\n",
    "# Que 7 Reverse a while loop to display numbers from 10 to 1.\n",
    "# Ans: \n",
    "\n",
    "num = 10\n",
    "while num > 0:\n",
    "    print(num)\n",
    "    num = num -1"
   ]
  },
  {
   "cell_type": "code",
   "execution_count": 1,
   "id": "4daed883-fef5-4fa9-8205-07aca39fcfa6",
   "metadata": {},
   "outputs": [],
   "source": [
    "# Que 8 Reverse a while loop to display numbers from 10 to 1.\n",
    "# Ans: \n",
    "\n",
    "num = 10\n",
    "while num > 0:\n",
    "    print(num)\n",
    "    num = num -1"
   ]
  },
  {
   "cell_type": "code",
   "execution_count": null,
   "id": "5decc807-e3d0-478e-8f34-a746ca1a9d75",
   "metadata": {},
   "outputs": [],
   "source": []
  }
 ],
 "metadata": {
  "kernelspec": {
   "display_name": "Python 3 (ipykernel)",
   "language": "python",
   "name": "python3"
  },
  "language_info": {
   "codemirror_mode": {
    "name": "ipython",
    "version": 3
   },
   "file_extension": ".py",
   "mimetype": "text/x-python",
   "name": "python",
   "nbconvert_exporter": "python",
   "pygments_lexer": "ipython3",
   "version": "3.10.6"
  }
 },
 "nbformat": 4,
 "nbformat_minor": 5
}
