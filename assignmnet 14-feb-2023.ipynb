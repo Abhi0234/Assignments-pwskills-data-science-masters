{
 "cells": [
  {
   "cell_type": "raw",
   "id": "3f88d655-ac41-45be-85cd-677f350bf10e",
   "metadata": {},
   "source": [
    "Q1. What is multithreading? why it is used? Name the module used to handle thread in python.\n",
    "\n",
    "Ans: Multithreading : Multithreading is the technique for improving the performance of application by allowing multiple   threads to execute concurrently within the program. it is implimented on program by creating a new thread and passing function in thet thread. you can then start the program and it will run concurrrently within the main thread of the programm\n",
    "\n",
    "         Multithreading is used to improve the performance of program. you can run multiple programs at a same time withoust waiting for one program to finish before running the next one. This can be particularly useful for tasks that involve waiting for external resources, such as reading from a file or making a network request. \n",
    "                      \n",
    "         In python, The \"threading\" module is used to create and manage threads\n",
    "          \n",
    "                   "
   ]
  },
  {
   "cell_type": "raw",
   "id": "5ea85cd1-7178-4c54-8a08-3d3675e9d4c6",
   "metadata": {},
   "source": [
    "Q2. Why threading module is used? write the use of the following functions:\n",
    "     1 activeCount()\n",
    "     2 currentThreads()\n",
    "     3 enumerate()\n",
    "    \n",
    "Ans: In python, the \"threading\" module is used to creating  and managing threads.\n",
    "\n",
    "1 activeCount() : it is used to know about the number of active threads in current programm. it can be useful for monitoring the number of threads and making sure that the threads are starting or stopped as expected.\n",
    "\n",
    "2 currentThread() : It returns the all thread objects of currently executing thread.It can be used to get information about the current thread, such as its name and ID.\n",
    "\n",
    "3 enumerate(): This function returns the list of all threas objects that are currently active in program. It can be used to get information about all the active threads running in that programm. such as id, name, status.\n",
    "\n",
    "Here's an example that demonstrates the use of these methods:"
   ]
  },
  {
   "cell_type": "code",
   "execution_count": null,
   "id": "6530b370-45be-4429-8ee8-35c911ff960b",
   "metadata": {},
   "outputs": [],
   "source": [
    "import threading\n",
    "\n",
    "def test1():\n",
    "    print(\"This is the function of thread t1\")\n",
    "    print(f\"Name of t1 thread : {threading.current_thread().name}\")\n",
    "    print(f\"id of t1 thread {threading.current_thread().ident}\")\n",
    "def test2():\n",
    "    print(\"This is the function of thread t2\")\n",
    "    print(f\"Name of t1 thread : {threading.current_thread().name}\")\n",
    "    print(f\"id of t1 thread {threading.current_thread().ident}\")\n",
    "\n",
    "t1 = threading.Thread(target=test1)\n",
    "t2 = threading.Thread(target=test2)\n",
    "t1.start()\n",
    "print(\"\\n\")\n",
    "t2.start()\n",
    "print(\"\\n\")\n",
    "print(f\" number of active threads : {threading.active_count()}\")\n",
    "print(f\" list of thread object of all active thread : {threading.enumerate()}\")\n",
    "\n",
    "\n"
   ]
  },
  {
   "cell_type": "markdown",
   "id": "dd471fc5-068c-4027-8e90-488a97b6587a",
   "metadata": {},
   "source": [
    "Q3. Explain the following functions\n",
    "1. run()\n",
    "2. start()\n",
    "3. join()\n",
    "4. isAlive()\n",
    "\n",
    "Ans:\n",
    "1. run() : This method is define the behaviour of thread when it is running. It is called by 'start()' and is usually                overridden in a subclass to implement the specific functionality of the thread. \n",
    "\n",
    "2. start() : This function is used to run the thread in the program. once a thread has been started it can't be start                  again.If you need to run the same thread again, you will need to create a new Thread object.\n",
    "\n",
    "3. join() :  This method blocks the calling thread until the thread whose join() method is called has finished executing.              It can be used to ensure that a thread has completed its task before the main thread continues. If the                    thread being joined is already finished, then join() returns immediately.\n",
    "\n",
    "4. isAlive() : It uses a thread object and checks wheather that the thread is alive or not, ie, it is still running or                 not. It returns a boolean value. it return \"True\" if thread is alive otherwise \"False\".\n",
    "\n",
    "Here's an example that demonstrates the use of these methods:"
   ]
  },
  {
   "cell_type": "code",
   "execution_count": null,
   "id": "8598ad19-4693-4b8d-b157-14b68aa33f31",
   "metadata": {},
   "outputs": [],
   "source": [
    "import threading\n",
    "import time\n",
    "\n",
    "class MyThread(threading.Thread):\n",
    "    def __init__(self, name, sleep_time):\n",
    "        super().__init__()\n",
    "        self.name = name\n",
    "        self.sleep_time = sleep_time\n",
    "\n",
    "    def run(self):\n",
    "        print(f'{self.name} starting')\n",
    "        time.sleep(self.sleep_time)\n",
    "        print(f'{self.name} finishing')\n",
    "\n",
    "# create some threads\n",
    "t1 = MyThread('Thread 1', 2)\n",
    "t2 = MyThread('Thread 2', 4)\n",
    "\n",
    "# start the threads\n",
    "t1.start()\n",
    "t2.start()\n",
    "\n",
    "# wait for the threads to finish\n",
    "\n",
    "# print whether the threads are alive\n",
    "print(f'Thread 1 alive? {t1.is_alive()}')\n",
    "print(f'Thread 2 alive? {t2.is_alive()}')\n",
    "\n",
    "\n",
    "t1.join()\n",
    "t2.join()"
   ]
  },
  {
   "cell_type": "code",
   "execution_count": null,
   "id": "f731e749-2612-46c2-827b-804ba57e5c5e",
   "metadata": {},
   "outputs": [],
   "source": []
  }
 ],
 "metadata": {
  "kernelspec": {
   "display_name": "Python 3 (ipykernel)",
   "language": "python",
   "name": "python3"
  },
  "language_info": {
   "codemirror_mode": {
    "name": "ipython",
    "version": 3
   },
   "file_extension": ".py",
   "mimetype": "text/x-python",
   "name": "python",
   "nbconvert_exporter": "python",
   "pygments_lexer": "ipython3",
   "version": "3.10.8"
  }
 },
 "nbformat": 4,
 "nbformat_minor": 5
}
