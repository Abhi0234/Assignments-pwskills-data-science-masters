{
 "cells": [
  {
   "cell_type": "markdown",
   "id": "0783919c-de42-476e-9037-834d649b0e8a",
   "metadata": {},
   "source": [
    "Q1. What is multithreading? why it is used? Name the module used to handle thread in python.\n",
    "\n",
    "Ans: Multithreading : Multithreading is the technique for improving the performance of application by allowing multiple threads to execute concurrently within the                       program. it is implimented on program by creating a new thread and passing function in thet thread. you can then start the program and it                         will run concurrrently within the main thread of the programm.\n",
    "\n",
    "                      Multithreading is used to improve the performance of program. you can run multiple programs at a same time withoust waiting for one program                       to finish before running the next one. This can be particularly useful for tasks that involve waiting for external resources, such as                             reading from a file or making a network request. \n",
    "                      \n",
    "                      In python, The \"threading\" module is used to create and manage threads"
   ]
  },
  {
   "cell_type": "code",
   "execution_count": null,
   "id": "f8e23a5e-8b86-4064-bca6-4f15d583557a",
   "metadata": {},
   "outputs": [],
   "source": []
  }
 ],
 "metadata": {
  "kernelspec": {
   "display_name": "Python 3 (ipykernel)",
   "language": "python",
   "name": "python3"
  },
  "language_info": {
   "codemirror_mode": {
    "name": "ipython",
    "version": 3
   },
   "file_extension": ".py",
   "mimetype": "text/x-python",
   "name": "python",
   "nbconvert_exporter": "python",
   "pygments_lexer": "ipython3",
   "version": "3.10.8"
  }
 },
 "nbformat": 4,
 "nbformat_minor": 5
}
