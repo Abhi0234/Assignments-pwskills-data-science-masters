{
 "cells": [
  {
   "cell_type": "code",
   "execution_count": null,
   "id": "fcd419ba-5f53-43c5-b6af-2fb83d390380",
   "metadata": {},
   "outputs": [],
   "source": [
    "# Q1. You are writing code for a company. The requirement of the company is that you create a python\n",
    "# function that will check whether the password entered by the user is correct or not. The function should\n",
    "# take the password as input and return the string “Valid Password” if the entered password follows the\n",
    "# below-given password guidelines else it should return “Invalid Password”.\n",
    "# Note: 1. The Password should contain at least two uppercase letters and at least two lowercase letters.\n",
    "# 2. The Password should contain at least a number and three special characters.\n",
    "# 3. The length of the password should be 10 characters long.\n",
    "\n",
    "# Ans: \n",
    "\n",
    "def check_password(password):\n",
    "    num_count = 0\n",
    "    special_char_count = 0\n",
    "    upper_count = 0\n",
    "    lower_count = 0\n",
    "    \n",
    "    for i in password:\n",
    "        if i.isupper():\n",
    "            upper_count = upper_count + 1\n",
    "        elif i.islower():\n",
    "            lower_count = lower_count + 1\n",
    "        elif i.isdigit():\n",
    "            num_count = num_count + 1\n",
    "        elif not(i.isalnum()):\n",
    "            special_char_count = special_char_count + 1\n",
    "    if num_count >= 1 and upper_count >= 2 and lower_count >= 2 and special_char_count >= 3 and len(password) >= 10:\n",
    "        print(\"Vailid Password\")\n",
    "    else:\n",
    "        print(\"Invailid Password\")\n",
    "password = input(\"Enter Password : \")\n",
    "check_password(password)"
   ]
  },
  {
   "cell_type": "code",
   "execution_count": 81,
   "id": "0212e254-fc10-4708-ac9d-1cbe3fc30f42",
   "metadata": {},
   "outputs": [
    {
     "name": "stdin",
     "output_type": "stream",
     "text": [
      "Enter Password :  54654\n"
     ]
    },
    {
     "name": "stdout",
     "output_type": "stream",
     "text": [
      "Valid Password\n"
     ]
    }
   ],
   "source": [
    "# Q1. You are writing code for a company. The requirement of the company is that you create a python\n",
    "# function that will check whether the password entered by the user is correct or not. The function should\n",
    "# take the password as input and return the string “Valid Password” if the entered password follows the\n",
    "# below-given password guidelines else it should return “Invalid Password”.\n",
    "# Note: 1. The Password should contain at least two uppercase letters and at least two lowercase letters.\n",
    "# 2. The Password should contain at least a number and three special characters.\n",
    "# 3. The length of the password should be 10 characters long.\n",
    "\n",
    "# Ans: \n",
    "def check_password(password):\n",
    "    num_count = 0\n",
    "    special_char_count = 0\n",
    "    upper_count = 0\n",
    "    lower_count = 0\n",
    "    \n",
    "    for i in password:\n",
    "        if i == i.isdigit():\n",
    "            num_count += 1\n",
    "        elif i == i.isupper():\n",
    "            upper_count += 1\n",
    "        elif i == i.islower():\n",
    "            lower_count += 1\n",
    "        elif not(i.isalnum()):\n",
    "            special_char_count += 1\n",
    "        else:\n",
    "            continue\n",
    "    if num_count==1 and special_char_count<3 and upper_count<2 and lower_count<2 and len(password)<10:\n",
    "        print(\"Invalid Password\")\n",
    "    else:\n",
    "        print(\"Valid Password\")\n",
    "\n",
    "password = input(\"Enter Password : \")\n",
    "check_password(password)"
   ]
  },
  {
   "cell_type": "code",
   "execution_count": null,
   "id": "ea04696f-adac-4bca-b94d-ac4332af1e3b",
   "metadata": {},
   "outputs": [],
   "source": [
    "# Q2. Solve the below-given questions using at least one of the following:\n",
    "# 1. Lambda function\n",
    "# 2. Filter function\n",
    "# 3. map function\n",
    "# 4. List Comprehension\n",
    "\n",
    "#  Check if the string starts with a particular letter\n",
    "#  Check if the string is numeric\n",
    "#  Sort a list of tuples having fruit names and their quantity. [(\"mango\",99),(\"orange\",80), (\"grapes\", 1000)]\n",
    "#  Find the squares of numbers from 1 to 10\n",
    "#  Find the cube root of numbers from 1 to 10\n",
    "#  Check if a given number is even\n",
    "#  Filter odd numbers from the given list.\n",
    "# [1,2,3,4,5,6,7,8,9,10]\n",
    "#  Sort a list of integers into positive and negative integers lists.\n",
    "# [1,2,3,4,5,6,-1,-2,-3,-4,-5,0]"
   ]
  },
  {
   "cell_type": "code",
   "execution_count": null,
   "id": "d86e5de8-18c8-405b-97d8-aad3379d8daf",
   "metadata": {},
   "outputs": [],
   "source": [
    "# Q.2.1: check if the string starts with a particulat letter\n",
    "\n",
    "string = input(\"Enter string : \")\n",
    "start_ltr = input(\"Enter first latter to check : \")\n",
    "start_with = lambda x,y : True if x.startswith(y) else False\n",
    "start_with(string,start_ltr)"
   ]
  },
  {
   "cell_type": "code",
   "execution_count": null,
   "id": "0497737d-bc19-4219-b063-7aaea1dd558a",
   "metadata": {},
   "outputs": [],
   "source": [
    "# Q.2.2: Check if the string is numeric\n",
    "\n",
    "string = input(\"Enter string :\")\n",
    "\n",
    "print(\"method 1\\n\")\n",
    "\n",
    "s_numeric = lambda x : True if x.isdigit() else False\n",
    "print(s_numeric(string))\n",
    "\n",
    "\n",
    "\n",
    "print(\"\\nMethod 2\\n\")\n",
    "\n",
    "def string_num(s):\n",
    "    s_split = \" \".join(s).split()\n",
    "    s_filter = \"\".join((filter(lambda x : x.isnumeric(), s_split)))\n",
    "\n",
    "    if len(s) == len(s_filter):\n",
    "        print(\"The given string is numeric\")\n",
    "    else:\n",
    "        print(\"The given string is not a numeric string\")\n",
    "string_num(string)"
   ]
  },
  {
   "cell_type": "code",
   "execution_count": null,
   "id": "546a4938-f878-45b0-a12b-f04a50ccaf9b",
   "metadata": {},
   "outputs": [],
   "source": [
    "# Q.2.3: Sort a list of tuples having fruit names and their quantity. \n",
    "#            [(\"mango\",99),(\"orange\",80),(\"grapes\", 1000)]\n",
    "\n",
    "\n",
    "fruits = [(\"mango\",99),(\"orange\",80), (\"grapes\", 1000)]\n",
    "print(f\"Given list : {fruits}\\n\")\n",
    "sorted_fruits = sorted(fruits, key=lambda x: x[1])\n",
    "\n",
    "print(f\"Sorted list : {sorted_fruits}\")"
   ]
  },
  {
   "cell_type": "code",
   "execution_count": null,
   "id": "ed3c7df1-016f-41f4-a803-da781032990c",
   "metadata": {},
   "outputs": [],
   "source": [
    "# Q.2.4: Find the squares of numbers from 1 to 10\n",
    "\n",
    "\n",
    "l = list(range(1, 11))\n",
    "Result = list(map(lambda x: x**2 , l))\n",
    "print(f\"The square of numbers from 1 to 10 is : {Result}\")"
   ]
  },
  {
   "cell_type": "code",
   "execution_count": null,
   "id": "73a0b2ac-2d4e-4691-9e37-061f295d4961",
   "metadata": {},
   "outputs": [],
   "source": [
    "# Q.2.5: Find the cube root of numbers from 1 to 10\n",
    "\n",
    "list(range(1, 11))\n",
    "Result = list(map(lambda x: x**3 , l))\n",
    "print(f\"The cube of numbers from 1 to 10 is : {Result}\")"
   ]
  },
  {
   "cell_type": "code",
   "execution_count": 21,
   "id": "61b32ce9-8221-445b-b79c-fb81003b6eac",
   "metadata": {},
   "outputs": [
    {
     "name": "stdin",
     "output_type": "stream",
     "text": [
      "Enter number : 87\n"
     ]
    },
    {
     "name": "stdout",
     "output_type": "stream",
     "text": [
      "87 is not a Even number\n"
     ]
    }
   ],
   "source": [
    "# Q.2.6: Check if a given number is even\n",
    "num = int(input(\"Enter number :\"))\n",
    "l = lambda x: True if x%2 ==0 else False\n",
    "print(f\"{num} is Even number\") if l(num) else print(f\"{num} is not a Even number\")\n"
   ]
  },
  {
   "cell_type": "code",
   "execution_count": null,
   "id": "e71f5b68-6f26-4897-a135-720ee590341d",
   "metadata": {},
   "outputs": [],
   "source": [
    "#Q.2.7: Filter odd numbers from the given list.\n",
    "#       [1,2,3,4,5,6,7,8,9,10]\n",
    "\n",
    "\n",
    "l = [1,2,3,4,5,6,7,8,9,10]\n",
    "print(f\"Given list : {l}\\n\")\n",
    "\n",
    "filtered_l = list(filter(lambda x: x%2 != 0, l))\n",
    "print(f\"list of odd numbers : {filtered_l}\")"
   ]
  },
  {
   "cell_type": "code",
   "execution_count": null,
   "id": "dc375084-75d0-4b44-826b-8b8cb49a017c",
   "metadata": {},
   "outputs": [],
   "source": [
    "Q.2.8: Sort a list of integers into positive and negative integers lists.\n",
    "         [1,2,3,4,5,6,-1,-2,-3,-4,-5,0]\n",
    "\n",
    "l = [1,2,3,4,5,6,-1,-2,-3,-4,-5,0]\n",
    "print(f\"Given list : {l}\")\n",
    "Positive_list = list(filter(lambda x: x>0 , l))\n",
    "Nagative_list = list(filter(lambda x: x<0 , l))\n",
    "print(f\"Positive list : {Positive_list}\")\n",
    "print(f\"Nagative list : {Nagative_list}\")"
   ]
  },
  {
   "cell_type": "code",
   "execution_count": 28,
   "id": "d02e73aa-36e8-4236-8c6f-3a685255a3e9",
   "metadata": {},
   "outputs": [
    {
     "name": "stdout",
     "output_type": "stream",
     "text": [
      "1\n",
      "2\n",
      "3\n",
      "4\n",
      "a\n",
      "b\n",
      "d\n",
      "  @\n"
     ]
    }
   ],
   "source": [
    "a = \"1234abd  @\"\n",
    "b = \"\"\n",
    "for i in a:\n",
    "    if i != i.isal and i !=  :\n",
    "        print(i)\n",
    "    else:\n",
    "        b = b+ i\n",
    "print(b)"
   ]
  },
  {
   "cell_type": "code",
   "execution_count": 54,
   "id": "69d23e8a-0f92-4c93-80cf-fb5d9af008bd",
   "metadata": {},
   "outputs": [
    {
     "name": "stdout",
     "output_type": "stream",
     "text": [
      "1234abd\n",
      "  @\n"
     ]
    }
   ],
   "source": [
    "i = \"1234ab   d\"\n",
    "i \n",
    "c = \"\"\n",
    "b = \"\"\n",
    "for i in a:\n",
    "    if not( i.isalnum()):\n",
    "        c += 1\n",
    "    else:\n",
    "        b = b+ i\n",
    "print(b)\n"
   ]
  },
  {
   "cell_type": "code",
   "execution_count": null,
   "id": "4be8f06e-900f-44a5-bc6a-82f98b367783",
   "metadata": {},
   "outputs": [],
   "source": []
  }
 ],
 "metadata": {
  "kernelspec": {
   "display_name": "Python 3 (ipykernel)",
   "language": "python",
   "name": "python3"
  },
  "language_info": {
   "codemirror_mode": {
    "name": "ipython",
    "version": 3
   },
   "file_extension": ".py",
   "mimetype": "text/x-python",
   "name": "python",
   "nbconvert_exporter": "python",
   "pygments_lexer": "ipython3",
   "version": "3.10.8"
  }
 },
 "nbformat": 4,
 "nbformat_minor": 5
}
