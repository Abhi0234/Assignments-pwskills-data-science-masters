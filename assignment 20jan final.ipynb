{
 "cells": [
  {
   "cell_type": "code",
   "execution_count": null,
   "id": "74ab32b0-672e-4fe5-aefb-53430e6425f3",
   "metadata": {},
   "outputs": [],
   "source": [
    "Que 1 Who developed python programing language?\n",
    "Ans:  Python was initially designed by \"Guido van Rossum\" in 1991 and developed by Python Software Foundation"
   ]
  },
  {
   "cell_type": "code",
   "execution_count": null,
   "id": "162bdfe3-f069-484e-8743-84380add7542",
   "metadata": {},
   "outputs": [],
   "source": [
    "Que 2 Which type of programming does python suppoort?\n",
    "Ans:  Python is a multi-paradigm programming language.it supports \"object oriented programming\" and \"structured programming\",\n",
    "      and many of their features support functional programming and aspect-oriented programming (including metaprogramming and metaobjects).."
   ]
  },
  {
   "cell_type": "code",
   "execution_count": null,
   "id": "8392371a-30b7-46bd-bc43-54563d48c358",
   "metadata": {},
   "outputs": [],
   "source": [
    "Oue 3 Is python is case sensetive when dealing with identifiers?\n",
    "Ans:  Yes, python is case sensitive language when dealing with identifiers."
   ]
  },
  {
   "cell_type": "code",
   "execution_count": null,
   "id": "97dab6a0-b982-4902-b134-7a3586b58b71",
   "metadata": {},
   "outputs": [],
   "source": [
    "Que 4 What is the correct extension of a py;thon file?\n",
    "Ans:  \".py extension\" is the correct extension of a python file."
   ]
  },
  {
   "cell_type": "code",
   "execution_count": null,
   "id": "e5e45fb9-e0d0-4ac2-9fe6-5d111f67a681",
   "metadata": {},
   "outputs": [],
   "source": [
    "Que 5 Is python code compiled or interpreted?\n",
    "Ans:  python is a \"interpreted language\"."
   ]
  },
  {
   "cell_type": "code",
   "execution_count": null,
   "id": "103dc420-c407-4f6e-8f89-630cd45709ac",
   "metadata": {},
   "outputs": [],
   "source": [
    "Que 6 Name the few blocks of code used to define in python language?\n",
    "Ans:  A Python program is constructed from code blocks. A block is a piece of Python program text that is executed as a unit. \n",
    "      There are a number of block code  used, including:\n",
    "              module, function body, and a class definition"
   ]
  },
  {
   "cell_type": "code",
   "execution_count": null,
   "id": "d877b938-5690-4937-a827-14f01fae9a49",
   "metadata": {},
   "outputs": [],
   "source": [
    "Que 7 State a character used to give single-line comment in python?\n",
    "Ans:  \"#\" is used to give single-line comment in python. example - #this is a comment"
   ]
  },
  {
   "cell_type": "code",
   "execution_count": null,
   "id": "61d3b34f-7267-4880-a53b-b8ed283c2293",
   "metadata": {},
   "outputs": [],
   "source": [
    "Que 8 Mention functions which can help us to find the version of python that we are currently working on?\n",
    "Ans:  \"python --version\" is use to find the version of python."
   ]
  },
  {
   "cell_type": "code",
   "execution_count": null,
   "id": "dda698ac-f1f7-469e-a838-01dbf5d7c274",
   "metadata": {},
   "outputs": [],
   "source": [
    "Que 9 Python support the creation of anonymous functions at runtime, using a construct called _____?\n",
    "Ans:  lambda"
   ]
  },
  {
   "cell_type": "code",
   "execution_count": null,
   "id": "41afdd40-f205-4e84-a2c4-72251ef461fb",
   "metadata": {},
   "outputs": [],
   "source": [
    "Que 10 what does pip stand for python?\n",
    "Ans:   pip stands for \"preferred Installer program\" in python, and it is used to install modules in python."
   ]
  },
  {
   "cell_type": "code",
   "execution_count": null,
   "id": "3b24fbd3-a6f9-4dd6-8c11-e0247ea923ae",
   "metadata": {},
   "outputs": [],
   "source": [
    "Que 11 Mention a few built-in functions in python?\n",
    "Ans:   There are 68 built in functions in python. some of which are given below:\n",
    "      1 print() \n",
    "      2 type () \n",
    "      3 input() \n",
    "      4 len() \n",
    "      5 int() \n",
    "      6 dict() \n",
    "      7 int()\n",
    "      8 str()\n",
    "      9 set()\n",
    "      10 list()\n",
    "    "
   ]
  },
  {
   "cell_type": "code",
   "execution_count": null,
   "id": "c1012e07-3859-4124-b955-8d6c03bb6fff",
   "metadata": {},
   "outputs": [],
   "source": [
    "Que 12 What is the maximum possible length of an identifier in python?\n",
    "Ans:   The maximum possible length of an identifier in python is 79 characters."
   ]
  },
  {
   "cell_type": "code",
   "execution_count": null,
   "id": "1e75e29f-7f33-4711-9939-9d3ff088681a",
   "metadata": {},
   "outputs": [],
   "source": [
    "Que 13 what are the benefits of using python?\n",
    "Ans    Benefits of using python:\n",
    "              1. python is a free and open source. \n",
    "              2. python has concise syntax and it is Easy to code.  \n",
    "              3. Python offers a wide range of libraries that can be used across various applications. \n",
    "              4. python is use for  data analyst, developing websites and softwere, task automations  and data visualization."
   ]
  },
  {
   "cell_type": "code",
   "execution_count": null,
   "id": "6694cca4-72e6-4f38-b4ef-7099ce70cd29",
   "metadata": {},
   "outputs": [],
   "source": [
    "Que 14 How is memory managed in python?\n",
    "Ans    Mamory of a python is managed by \"python private heap space\". In a private heap all the data structure and python objects are located. \n",
    "       This private heap is taken care of by Python Interpreter itself, and a programmer doesn't have access to this private heap"
   ]
  },
  {
   "cell_type": "code",
   "execution_count": null,
   "id": "7a7742d7-e261-48f9-888e-33b3f9782dc0",
   "metadata": {},
   "outputs": [],
   "source": [
    "Que 15 How to install python in windows and set path veriables?\n",
    "Ans:   There are following steps to install python:\n",
    "       1 Open a browser to the Python website and download the Windows installer\n",
    "       2 double click on the downloded file and install python for all users \n",
    "       3 Right-clicking This PC and going to Properties.\n",
    "       4 Clicking on the Advanced system settings in the menu on the left.\n",
    "       5 Clicking on the Environment Variables button on the bottom right\n",
    "       6 In the System variables section, selecting the Path variable and clicking on Edit. \n",
    "       7 The next screen will show all the directories that are currently a part of the PATH variable.\n",
    "       8 Clicking on New and entering Python’s install directory."
   ]
  },
  {
   "cell_type": "code",
   "execution_count": null,
   "id": "7412fb45-5303-4055-be3e-8e9dd999e0a9",
   "metadata": {},
   "outputs": [],
   "source": [
    "Que 16 Is indentation required in python?\n",
    "Ans:   The Indentation in python is very important. Python used indentation to indicate the block of code."
   ]
  }
 ],
 "metadata": {
  "kernelspec": {
   "display_name": "Python 3 (ipykernel)",
   "language": "python",
   "name": "python3"
  },
  "language_info": {
   "codemirror_mode": {
    "name": "ipython",
    "version": 3
   },
   "file_extension": ".py",
   "mimetype": "text/x-python",
   "name": "python",
   "nbconvert_exporter": "python",
   "pygments_lexer": "ipython3",
   "version": "3.10.6"
  }
 },
 "nbformat": 4,
 "nbformat_minor": 5
}
