{
 "cells": [
  {
   "cell_type": "code",
   "execution_count": 10,
   "id": "f926e9a2-5928-4227-aec5-4659835d31fc",
   "metadata": {},
   "outputs": [
    {
     "name": "stdout",
     "output_type": "stream",
     "text": [
      "Hello PW using for loop\n",
      "Hello PW using for loop\n",
      "Hello PW using for loop\n",
      "\n",
      "\n",
      "Hello PW using while loop\n",
      "Hello PW using while loop\n",
      "Hello PW using while loop\n"
     ]
    }
   ],
   "source": [
    "# Que 1: Explain with an example each when to use a for loop and a while loop.\n",
    "# Ans:\n",
    "'''for loop:\n",
    "    The loop is Used to iterate a specific block of code multiple times. \n",
    "    The for loop is used when we already know the number of iterations, which means\n",
    "     when we know how many times a statement has to be executed.\n",
    "    That is why we have to specify the ending point in the for loop initialization. \n",
    "    for example:''' \n",
    "for i in range(3):\n",
    "    print(\"Hello PW using for loop\")\n",
    "print(\"\\n\")    \n",
    "'''while loop:\n",
    "    The while loop is used to iterate a block of code multiple times until the given condition is true.\n",
    "      it is useful when we can't specify terminating condition of the loop. it is useful because it checks\n",
    "      the condition every time before executing the code inside it which for loop doesn't\n",
    "    for example:'''\n",
    "count = 0\n",
    "while (count < 3):\n",
    "    count = count + 1\n",
    "    print(\"Hello PW using while loop\")"
   ]
  },
  {
   "cell_type": "code",
   "execution_count": 15,
   "id": "15198e2d-cd00-4b92-91a1-ac56255ff19e",
   "metadata": {},
   "outputs": [
    {
     "name": "stdout",
     "output_type": "stream",
     "text": [
      "using for loop \n",
      "\n",
      "The sum of first 10 natural number is : 55\n",
      "The product of first 10 natural number is : 3628800\n",
      "\n",
      "using while loop \n",
      "\n",
      "The sum of first 10 natural number is : 55\n",
      "The product of first 10 natural number is : 3628800\n"
     ]
    }
   ],
   "source": [
    "# Que 2: Write a python program to print the sum and product of the first 10 natural numbers using for and while loop.\n",
    "# Ans:\n",
    "print(\"using for loop \\n\")\n",
    "sum1 = 0\n",
    "pro1 = 1\n",
    "for i in range(1,11):\n",
    "    sum1 += i\n",
    "    pro1 *= i\n",
    "print(f\"The sum of first 10 natural number is : {sum1}\")\n",
    "print(f\"The product of first 10 natural number is : {pro1}\")\n",
    "\n",
    "print(\"\\nusing while loop \\n\")\n",
    "sum2 = 0\n",
    "pro2 = 1\n",
    "i = 1\n",
    "while i <= 10:\n",
    "    sum2 += i\n",
    "    pro2 *= i\n",
    "    i +=1\n",
    "print(f\"The sum of first 10 natural number is : {sum2}\")\n",
    "print(f\"The product of first 10 natural number is : {pro2}\")\n"
   ]
  },
  {
   "cell_type": "code",
   "execution_count": 2,
   "id": "c64e524a-7027-4c7d-b777-2f6f904a8fc8",
   "metadata": {},
   "outputs": [
    {
     "name": "stdin",
     "output_type": "stream",
     "text": [
      "Enter units :  310\n"
     ]
    },
    {
     "name": "stdout",
     "output_type": "stream",
     "text": [
      "You will pay Rs. 2250 for consuming 310 units of Elctricity\n"
     ]
    }
   ],
   "source": [
    "# Que 3: Create a python program to compute the electricity bill for a household.\n",
    "#       The per-unit charges in rupees are as follows: For the first 100 units, the user will be charged Rs. 4.5 per\n",
    "#       unit, for the next 100 units, the user will be charged Rs. 6 per unit, and for the next 100 units, the user will\n",
    "#       be charged Rs. 10 per unit, After 300 units and above the user will be charged Rs. 20 per unit.\n",
    "#       You are required to take the units of electricity consumed in a month from the user as input.\n",
    "#       Your program must pass this test case: when the unit of electricity consumed by the user in a month is       \n",
    "#          310, the total electricity bill should be 2250.\n",
    "# Ans:\n",
    "\n",
    "unit = int(input(\"Enter units : \"))\n",
    "\n",
    "if unit <=100:\n",
    "    print (f\"You will pay Rs. {unit * 4.5} for consuming {unit} units of Elctricity\")\n",
    "elif unit >100 and unit <=200:\n",
    "    print (f\"You will pay Rs. {((unit - 100) * 6)+450} for consuming {unit} units of Elctricity\")\n",
    "elif unit > 200 and unit <=300:\n",
    "    print (f\"You will pay Rs. {((unit - 200) * 10)+1050} for consuming {unit} units of Elctricity\")\n",
    "else:\n",
    "    print (f\"You will pay Rs. {((unit - 300) * 20)+2050} for consuming {unit} units of Elctricity\")\n"
   ]
  },
  {
   "cell_type": "code",
   "execution_count": 3,
   "id": "ac898943-be5d-42a0-9dc8-91bb1cafb58f",
   "metadata": {},
   "outputs": [
    {
     "name": "stdout",
     "output_type": "stream",
     "text": [
      "using for loop \n",
      "\n",
      "The no. divisible by 4 or 5 between 1 to 100 is :\n",
      "[4, 5, 8, 10, 12, 15, 16, 20, 24, 25, 28, 30, 32, 35, 36, 40, 44, 45, 48, 50, 52, 55, 56, 60, 64, 65, 68, 70, 72, 75, 76, 80, 84, 85, 88, 90, 92, 95, 96, 100]\n",
      "\n",
      "\n",
      "using while loop \n",
      "\n",
      "The no. divisible by 4 or 5 between 1 to 100 is :\n",
      "[4, 5, 8, 10, 12, 15, 16, 20, 24, 25, 28, 30, 32, 35, 36, 40, 44, 45, 48, 50, 52, 55, 56, 60, 64, 65, 68, 70, 72, 75, 76, 80, 84, 85, 88, 90, 92, 95, 96, 100]\n"
     ]
    }
   ],
   "source": [
    "# Que 4: Create a list of numbers from 1 to 100. Use for loop and while loop to calculate the cube of each\n",
    "#        number and if the cube of that number is divisible by 4 or 5 then append that number in a list and print\n",
    "#        that list.\n",
    "# Ans:\n",
    "print(\"using for loop \\n\")\n",
    "\n",
    "l1 = []\n",
    "for i in range(1,101):\n",
    "     if i%4==0 or i%5==0:\n",
    "        l1.append(i)\n",
    "print(\"The no. divisible by 4 or 5 between 1 to 100 is :\")\n",
    "print(l1)\n",
    "\n",
    "print( \"\\n\" )\n",
    "print(\"using while loop \\n\")\n",
    "\n",
    "l2 = []\n",
    "i = 1\n",
    "while i <= 100:\n",
    "    if i%4==0 or i%5==0:\n",
    "        l2.append(i)\n",
    "    i += 1\n",
    "print(\"The no. divisible by 4 or 5 between 1 to 100 is :\")\n",
    "print(l2)"
   ]
  },
  {
   "cell_type": "code",
   "execution_count": 4,
   "id": "6d4a834b-0368-4dce-a874-fc76f4d9c5e6",
   "metadata": {},
   "outputs": [
    {
     "name": "stdout",
     "output_type": "stream",
     "text": [
      "method 1\n",
      "\n",
      "The sum of Vowal in the given string is : 10\n",
      "\n",
      "method 2\n",
      "\n",
      "The sum of Vowal in the given string is : 10\n"
     ]
    }
   ],
   "source": [
    "# Que 5 Write a program to filter count vowels in the below-given string.\n",
    "#       string = \"I want to become a data scientist\"\n",
    "# Ans:\n",
    "print(\"method 1\\n\")\n",
    "string = \"I want to be a data scientist \"\n",
    "count = 0\n",
    "for i in string.upper():\n",
    "    if i == \"A\" or i == \"E\" or i == \"I\" or i == \"O\" or i == \"U\":\n",
    "        count += 1\n",
    "print(f\"The sum of Vowal in the given string is : {count}\") \n",
    "        \n",
    "print(\"\\nmethod 2\\n\")\n",
    "string = \"I want to be a data scientist \"\n",
    "count = 0\n",
    "for i in string.upper():\n",
    "    if i in ('A', 'E', 'I', 'O', 'U'):\n",
    "        count += 1\n",
    "print(f\"The sum of Vowal in the given string is : {count}\")"
   ]
  },
  {
   "cell_type": "code",
   "execution_count": null,
   "id": "2e856ffc-7943-41ce-b9c6-6d5699f27e5e",
   "metadata": {},
   "outputs": [],
   "source": []
  }
 ],
 "metadata": {
  "kernelspec": {
   "display_name": "Python 3 (ipykernel)",
   "language": "python",
   "name": "python3"
  },
  "language_info": {
   "codemirror_mode": {
    "name": "ipython",
    "version": 3
   },
   "file_extension": ".py",
   "mimetype": "text/x-python",
   "name": "python",
   "nbconvert_exporter": "python",
   "pygments_lexer": "ipython3",
   "version": "3.10.6"
  }
 },
 "nbformat": 4,
 "nbformat_minor": 5
}
