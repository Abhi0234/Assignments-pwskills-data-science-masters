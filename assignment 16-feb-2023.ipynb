{
 "cells": [
  {
   "cell_type": "markdown",
   "id": "c39bbefa-f87a-441a-a58d-38155f4da3b5",
   "metadata": {},
   "source": [
    "Q1. What is database? differenciate between SQL and NoSQL in databases.\n",
    "\n",
    "Ans : A Database is a collection of related information and records. The data is managed by systems softwere called database management system (DBMS). Databases can be used to store data for a wide range of applications, including e-commerce sites, social media platforms, financial systems, and much more.\n",
    "\n",
    "Threre are two catagories of databases : SQL database and NoSQL database.\n",
    "\n",
    "SQL(Structued Query Language) : \n",
    "  \n",
    "    1 SQL is a language used to manage relational databases\n",
    "    2 SQL databases are designed to store structured data in tables with predefined relationships.\n",
    "    3 SQL databases use the SQL query language to manipulate and retrieve data.\n",
    "    4  SQL databases are known for their ability to handle complex queries and transactions, making them well-suited for large-scale enterprise applications. Examples of SQL databases include MySQL, Oracle, and PostgreSQL.\n",
    "NoSQL(Not only Sturctured Query Language) :\n",
    "\n",
    "    1 SQL is a language used to manage non-relational databases\n",
    "    2 NoSQL databases store data in a variety of ways, such as key-value pairs, document-oriented databases, graph databases, and more. \n",
    "    3 NoSQL databases are designed to handle unstructured or semi-structured data.\n",
    "    4 NoSQL databases use a variety of query languages, depending on the type of database being used.\n",
    "    5 NoSQL databases are known for their ability to scale horizontally and handle large amounts of unstructured data. Examples of NoSQL databases include MongoDB, Cassandra, and Amazon DynamoDB.\n",
    "    \n",
    "    \n",
    "    \n",
    "    \n",
    "    "
   ]
  },
  {
   "cell_type": "markdown",
   "id": "7c531520-9617-4385-bee8-89a9564ce90b",
   "metadata": {},
   "source": [
    "done\n",
    "\n",
    "Q2. What is DDL? Explain why CREATE, DROP, ALTER, and TRUNCATE are used with an example.\n",
    "\n",
    "Ans: DDL : DDL stands for Data Defintion Language. It is used to defining and managing database structure and schemas.\n",
    "\n",
    "The following are some of the commonly used DDL statements in SQL:\n",
    "\n",
    "1. CREATE : It is used to create database objects such as tables, views etc. Here's an example of creating a table:"
   ]
  },
  {
   "cell_type": "code",
   "execution_count": null,
   "id": "65be6dc3-44c1-497a-b08d-e9155bec3c65",
   "metadata": {},
   "outputs": [],
   "source": [
    "CREATE TABLE Student (\n",
    "   student_id INT PRIMARY KEY,\n",
    "   name VARCHAR(20),\n",
    "   course VARCHAR(20),\n",
    "   );"
   ]
  },
  {
   "cell_type": "markdown",
   "id": "4804d058-7b1a-486b-b229-086fa5026240",
   "metadata": {},
   "source": [
    "2. DROP : It is used to remove database objects such as tables, views, indexes, etc. Here's an example of dropping a table:"
   ]
  },
  {
   "cell_type": "code",
   "execution_count": null,
   "id": "00c442c7-98f1-41bb-b011-588f2614c429",
   "metadata": {},
   "outputs": [],
   "source": [
    "DROP TABLE Student;"
   ]
  },
  {
   "cell_type": "markdown",
   "id": "b0891afb-005b-4a79-82c1-f07373a4c745",
   "metadata": {},
   "source": [
    "3. ALTER: It is used to modify the structure of existing database objects such as tables, views, indexes, etc. Here's an example of adding a new column to an existing table:"
   ]
  },
  {
   "cell_type": "code",
   "execution_count": null,
   "id": "cd14750a-fd0e-4496-ab0b-94718e4b05a4",
   "metadata": {},
   "outputs": [],
   "source": [
    "ALTER TABLE Student ADD mail_id VARCHAR(50);"
   ]
  },
  {
   "cell_type": "markdown",
   "id": "cf66845e-28c8-4f4e-b0fe-957f4a60451d",
   "metadata": {},
   "source": [
    "4. TRUNCATE: It is used to remove all the data from a table, while keeping its structure intact. Here's an example of truncating a table:"
   ]
  },
  {
   "cell_type": "code",
   "execution_count": null,
   "id": "8d668091-67ac-4b8f-83ee-7642f0a6d87e",
   "metadata": {},
   "outputs": [],
   "source": [
    "TRUNCATE TABLE Student;"
   ]
  },
  {
   "cell_type": "markdown",
   "id": "911cd905-674a-44c9-a806-05bb9fcf654b",
   "metadata": {},
   "source": [
    "done\n",
    "\n",
    "\n",
    "Q3. What is DML? Explain INSERT, UPDATE, and DELETE with an example.\n",
    "\n",
    "ANS: DML : DML stands for Data Manipulation Language. IT is used for inserting, updating and deleting data from the database.\n",
    "\n",
    "The following are some of the commonly used DML statements in SQL:\n",
    "\n",
    "1. INSERT: It is used to add new data into a table. Here's an example of inserting a new record into a table"
   ]
  },
  {
   "cell_type": "code",
   "execution_count": null,
   "id": "419a2b46-e52c-4579-bdff-6e285be3c852",
   "metadata": {},
   "outputs": [],
   "source": [
    "INSERT INTO Student (Student_id, name, course)\n",
    "VALUES (1, 'Abhishek', 'Data science masters');"
   ]
  },
  {
   "cell_type": "markdown",
   "id": "d03d9084-7933-4590-b372-41014f60805f",
   "metadata": {},
   "source": [
    "2. UPDATE: It is used to modify existing data within a table. Here's an example of updating a record within a table:"
   ]
  },
  {
   "cell_type": "code",
   "execution_count": null,
   "id": "dec8a8b7-2aa3-407d-b687-1759c2a8f8fe",
   "metadata": {},
   "outputs": [],
   "source": [
    "UPDATE Student\n",
    "SET major = 'web development'\n",
    "WHERE student_id = 1;"
   ]
  },
  {
   "cell_type": "markdown",
   "id": "44342963-024c-4ebd-b7de-ff525c3c18ca",
   "metadata": {},
   "source": [
    "3. DELETE: It is used to remove data from a table. Here's an example of deleting a record from a table:"
   ]
  },
  {
   "cell_type": "code",
   "execution_count": null,
   "id": "c6ed9128-e551-437d-9558-4fc703dfd54f",
   "metadata": {},
   "outputs": [],
   "source": [
    "DELETE FROM Student\n",
    "WHERE student_id = 1;"
   ]
  },
  {
   "cell_type": "markdown",
   "id": "6a8a00c0-a22b-4a21-8526-d93328212201",
   "metadata": {},
   "source": [
    "done\n",
    "\n",
    "\n",
    "Q4. What is DQL? Explain SELECT with an example.\n",
    "\n",
    "Ans: DQL: DQL is stands for Data Query Language. It is used to retrive the data from database.\n",
    "\n",
    "The most commonly used DQL statement in SQL is SELECT, which is used to retrieve data from one or more tables. Here's an example of using SELECT to retrieve all records from a table:\n",
    "\n"
   ]
  },
  {
   "cell_type": "code",
   "execution_count": null,
   "id": "f006d7c0-2ca3-4053-80d0-e09726521df2",
   "metadata": {},
   "outputs": [],
   "source": [
    "SELECT * FROM Student;"
   ]
  },
  {
   "cell_type": "markdown",
   "id": "9a3bde0c-b287-4c47-aec8-b16a2ff2bd2c",
   "metadata": {},
   "source": [
    "In this example, the asterisk (*) is used as a wildcard to select all columns from the Student table.\n",
    "\n",
    "\n",
    "done"
   ]
  },
  {
   "cell_type": "markdown",
   "id": "6a045881-ddb1-433f-91a6-777d520f97b2",
   "metadata": {},
   "source": [
    "Q5. Explain Primary Key and Foreign Key.\n",
    "\n",
    "Ans: \n",
    "1. Primary Key: A primary key is a column or set of columns that uniquely identifies each record in a table. It must be unique, non-null, and immutable. Here's an example of defining a primary key in a CREATE TABLE statement:"
   ]
  },
  {
   "cell_type": "code",
   "execution_count": null,
   "id": "d339a394-a4b4-4367-b22a-4cc0afb4a0db",
   "metadata": {},
   "outputs": [],
   "source": [
    "CREATE TABLE employees (\n",
    "   employee_id INT PRIMARY KEY,\n",
    "   first_name VARCHAR(50),\n",
    "   last_name VARCHAR(50),\n",
    "   hire_date DATE,\n",
    "   salary NUMERIC(10,2)\n",
    ");"
   ]
  },
  {
   "cell_type": "markdown",
   "id": "9f967b1c-7235-4df0-a860-cbad380a75aa",
   "metadata": {},
   "source": [
    "In this example, the employee_id column is defined as the primary key of the employees table.\n",
    "\n",
    "2. Foreign Key: A foreign key is a column or set of columns in one table that refers to the primary key of another table. It is used to establish a relationship between the two tables and enforce referential integrity. Here's an example of defining a foreign key in a CREATE TABLE statement:"
   ]
  },
  {
   "cell_type": "code",
   "execution_count": null,
   "id": "e77d92fe-6f5c-4e03-a7b1-f8b23b7f94eb",
   "metadata": {},
   "outputs": [],
   "source": [
    "CREATE TABLE orders (\n",
    "   order_id INT PRIMARY KEY,\n",
    "   customer_id INT,\n",
    "   order_date DATE,\n",
    "   total_amount NUMERIC(10,2),\n",
    "   FOREIGN KEY (customer_id) REFERENCES customers(customer_id)\n",
    ");"
   ]
  },
  {
   "cell_type": "markdown",
   "id": "4137a50c-f85c-43fe-a03d-991c13c294f3",
   "metadata": {},
   "source": [
    "In this example, the customer_id column in the orders table is defined as a foreign key that references the primary key of the customers table.|\n",
    "\n",
    "done"
   ]
  },
  {
   "cell_type": "markdown",
   "id": "986310f9-83eb-4ee0-b889-59129903b4b8",
   "metadata": {},
   "source": [
    "Q6. Write a python code to connect MySQL to python. Explain the cursor() and execute() method.\n",
    "\n",
    "Ans: "
   ]
  },
  {
   "cell_type": "code",
   "execution_count": null,
   "id": "37f566aa-075c-4193-acba-8b178ea54adf",
   "metadata": {},
   "outputs": [],
   "source": [
    "import mysql.connector\n",
    "\n",
    "# create a connection to the MySQL database\n",
    "mydb = mysql.connector.connect(\n",
    "  host=\"localhost\",\n",
    "  user=\"yourusername\",\n",
    "  password=\"yourpassword\",\n",
    "  database=\"yourdatabase\"\n",
    ")\n",
    "\n",
    "# create a cursor object\n",
    "mycursor = mydb.cursor()\n",
    "\n",
    "# execute a SELECT query\n",
    "mycursor.execute(\"SELECT * FROM customers\")\n",
    "\n",
    "# fetch all rows from the result set\n",
    "result = mycursor.fetchall()\n",
    "\n",
    "# print the rows\n",
    "for row in result:\n",
    "  print(row)\n"
   ]
  },
  {
   "cell_type": "markdown",
   "id": "f3bb444f-aa31-4a90-aad0-401f54046da8",
   "metadata": {},
   "source": [
    "cursor() : cursor() method creates a cursor/pointer object which is used to interact with a MySQL database.\n",
    "\n",
    "execute() : It is used to execute a SQL query on a MySQL database using a cursor object in Python.\n",
    "\n",
    "\n",
    "\n",
    "done \n",
    "\n",
    "\n",
    "Q7. Give the order of execution of SQL clauses in an SQL query.\n",
    "\n",
    "Ans:  Order of execution of SQL clauses\n",
    "1. FROM\n",
    "2. JOIN\n",
    "3. WHERE\n",
    "4. GROUP BY\n",
    "5. HAVING\n",
    "6. SELECT\n",
    "7. DISTINCT\n",
    "8. ORDER BY\n",
    "9. LIMIT"
   ]
  }
 ],
 "metadata": {
  "kernelspec": {
   "display_name": "Python 3 (ipykernel)",
   "language": "python",
   "name": "python3"
  },
  "language_info": {
   "codemirror_mode": {
    "name": "ipython",
    "version": 3
   },
   "file_extension": ".py",
   "mimetype": "text/x-python",
   "name": "python",
   "nbconvert_exporter": "python",
   "pygments_lexer": "ipython3",
   "version": "3.10.8"
  }
 },
 "nbformat": 4,
 "nbformat_minor": 5
}
