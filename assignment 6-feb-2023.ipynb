{
 "cells": [
  {
   "cell_type": "code",
   "execution_count": 7,
   "id": "ce0fb6ac-2f95-4dc1-8e4c-c2d746d00fad",
   "metadata": {},
   "outputs": [
    {
     "name": "stdout",
     "output_type": "stream",
     "text": [
      "Given list : [1, 2, 3, 4, [44, 55, 66, True], False, (34, 56, 78, 89, 34), {1, 2, 3}, {1: 34, 'key2': [55, 67, 78, 89], 4: (45, 22, 61, 34)}, [56, 'data science'], 'Machine Learning']\n",
      "\n",
      "filtered list : [56, 34, 61, 22, 45, 89, 78, 67, 55, 34, 4, 1, 34, 89, 78, 56, 34, 66, 55, 44, 4, 3, 2, 1]\n",
      "\n",
      "The product of numbers in filtered list is : 689118639831180913138973540352000\n"
     ]
    }
   ],
   "source": [
    "#Q  Create a function which will take a list as an argument and return the product of all the numbers\n",
    "# after creating a flat list.\n",
    "# Use the below-given list as an argument for your function.\n",
    "# list1 = [1,2,3,4, [44,55,66, True], False, (34,56,78,89,34), {1,2,3,3,2,1}, {1:34, \"key2\": [55, 67, 78, 89], 4: (45,\n",
    "# 22, 61, 34)}, [56, 'data science'], 'Machine Learning']\n",
    "# Note: you must extract numeric keys and values of the dictionary also.\n",
    "\n",
    "# Ans: \n",
    "list1 = [1,2,3,4, [44,55,66, True], False, (34,56,78,89,34), {1,2,3,3,2,1}, {1:34, \"key2\": [55, 67, 78, 89], 4: (45,\n",
    "22, 61, 34)}, [56, 'data science'], 'Machine Learning']\n",
    "print(f\"Given list : {list1}\\n\")\n",
    "\n",
    "from functools import reduce\n",
    "def product_list(lst):\n",
    "    def filter_num(lst):\n",
    "        temp_list = list(lst)\n",
    "        Flat_list = []\n",
    "        while temp_list:\n",
    "            temp_item = temp_list.pop()\n",
    "            if type(temp_item) in (tuple, list, dict):\n",
    "                if type(temp_item) == dict:\n",
    "                    temp_list.extend(list(temp_item.keys()) + list(temp_item.values()))\n",
    "                else:\n",
    "                    temp_list.extend(temp_item)\n",
    "            else:\n",
    "                if type(temp_item) in (int, float):\n",
    "                    Flat_list.append(temp_item)\n",
    "        print(f\"filtered list : {Flat_list}\\n\")\n",
    "        return Flat_list\n",
    "    final_list = filter_num(lst)\n",
    "    return reduce(lambda x,y: x*y, final_list,1)\n",
    "list1 = [1,2,3,4, [44,55,66, True], False, (34,56,78,89,34), {1,2,3,3,2,1}, {1:34, \"key2\": [55, 67, 78, 89], 4: (45,\n",
    "22, 61, 34)}, [56, 'data science'], 'Machine Learning']\n",
    "print(f\"The product of numbers in filtered list is : {product_list(list1)}\")\n"
   ]
  },
  {
   "cell_type": "code",
   "execution_count": 8,
   "id": "2e1ef21e-bafc-446a-b544-f00aa0b37f25",
   "metadata": {},
   "outputs": [
    {
     "name": "stdout",
     "output_type": "stream",
     "text": [
      "Given string : I want to become a Data Scientist.\n",
      "\n",
      "Expected output : r$dzmg$gl$yvxlnv$z$wzgz$hxrvmgrhg.\n"
     ]
    }
   ],
   "source": [
    "# Q2. Write a python program for encrypting a message sent to you by your friend. The logic of encryption\n",
    "# should be such that, for a the output should be z. For b, the output should be y. For c, the output should\n",
    "# be x respectively. Also, the whitespace should be replaced with a dollar sign. Keep the punctuation\n",
    "# marks unchanged.\n",
    "\n",
    "# Input Sentence: I want to become a Data Scientist.\n",
    "\n",
    "# Encrypt the above input sentence using the program you just created.\n",
    "\n",
    "# Note: Convert the given input sentence into lowercase before encrypting. The final output should be\n",
    "# lowercase.\n",
    "\n",
    "\n",
    "# Ans:\n",
    "\n",
    "\n",
    "def Encrypt_msg(string):\n",
    "    lstring = string.lower()\n",
    "    print(f\"Given string : {string}\\n\")\n",
    "    new_string = \"\"\n",
    "    for i in lstring:\n",
    "        ascii_num = ord(i)\n",
    "        if ascii_num >= 97 and ascii_num <= 122:\n",
    "            new_string = new_string + chr(122 - (ascii_num - 97))\n",
    "        elif i == \" \":\n",
    "            new_string = new_string + \"$\"\n",
    "        else:\n",
    "            new_string = new_string + i\n",
    "    print(f\"Expected output : {new_string}\")\n",
    "    \n",
    "    \n",
    "string = \"I want to become a Data Scientist.\"\n",
    "Encrypt_msg(string)\n"
   ]
  }
 ],
 "metadata": {
  "kernelspec": {
   "display_name": "Python 3 (ipykernel)",
   "language": "python",
   "name": "python3"
  },
  "language_info": {
   "codemirror_mode": {
    "name": "ipython",
    "version": 3
   },
   "file_extension": ".py",
   "mimetype": "text/x-python",
   "name": "python",
   "nbconvert_exporter": "python",
   "pygments_lexer": "ipython3",
   "version": "3.10.6"
  }
 },
 "nbformat": 4,
 "nbformat_minor": 5
}
