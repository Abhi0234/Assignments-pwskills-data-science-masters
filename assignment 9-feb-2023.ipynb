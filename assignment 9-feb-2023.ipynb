{
 "cells": [
  {
   "cell_type": "code",
   "execution_count": 12,
   "id": "af565a15-a395-4aee-a6ed-eaaa30d1060b",
   "metadata": {},
   "outputs": [
    {
     "name": "stdout",
     "output_type": "stream",
     "text": [
      "Splendor Plus\n",
      "100\n",
      "50\n"
     ]
    }
   ],
   "source": [
    "# Q1, Create a vehicle class with an init method having instance variables as name_of_vehicle, max_speed\n",
    "#      and average_of_vehicle.\n",
    "# Ans:\n",
    "\n",
    "class vehicle:\n",
    "    def __init__(self, name_of_vehicle, max_speed, average_of_vehicle):\n",
    "        self.name_of_vehicle = name_of_vehicle\n",
    "        self.max_speed = max_speed\n",
    "        self.average_of_vehicle = average_of_vehicle\n",
    "        \n",
    "bike = vehicle(\"Splendor Plus\", 100, 50)\n",
    "print(bike.name_of_vehicle)\n",
    "print(bike.max_speed)\n",
    "print(bike.average_of_vehicle)"
   ]
  },
  {
   "cell_type": "code",
   "execution_count": 51,
   "id": "808b1ba4-d4f5-431a-80a7-d3cd834120ee",
   "metadata": {},
   "outputs": [
    {
     "data": {
      "text/plain": [
       "'Thar has a seating capacity of 4 persons.'"
      ]
     },
     "execution_count": 51,
     "metadata": {},
     "output_type": "execute_result"
    }
   ],
   "source": [
    "# Q.2 Create a child class from the vehicle class created in Que1, which will inherit the vehicle class.Create a method named \n",
    "#     seating_capacity which takes capacity as an argument and returns the name of the vehicle and its seating capacity.\n",
    "# Ans:\n",
    "\n",
    "\n",
    "class Car(vehicle):\n",
    "    def seating_capacity(self, capacity):\n",
    "        return f\"{self.name_of_vehicle} has a seating capacity of {capacity} persons.\"\n",
    "car = Car(\"Thar\", 155, 15)\n",
    "car.seating_capacity(4)"
   ]
  },
  {
   "cell_type": "code",
   "execution_count": 53,
   "id": "793567a8-96dd-4446-bae4-b256c08dbf2e",
   "metadata": {},
   "outputs": [
    {
     "name": "stdout",
     "output_type": "stream",
     "text": [
      "\n",
      " multiple Inheristance \n",
      "\n",
      "This is the functions of 1st base class.\n",
      "This is the functions of 2st base class.\n",
      "This is the function of child class.\n"
     ]
    }
   ],
   "source": [
    "# Q.3 what is Multiple Inheritance? write a python code to demonstrate method of Multiple inheritance.\n",
    "\n",
    "# Ans: Multiple Inheritance : It is a feature of Object oriented programing that allows us to inherit more than one base class\n",
    "#                             into a child class. By which we can use all the properties and methods of multiple base classes.\n",
    "# Example:\n",
    "    \n",
    "print(\"\\n multiple Inheristance \\n\")\n",
    "    \n",
    "class Base_class_1:\n",
    "    def func1(self):\n",
    "        print(\"This is the functions of 1st base class.\")\n",
    "        \n",
    "class Base_class_2:\n",
    "    def func2(self):\n",
    "        print(\"This is the functions of 2st base class.\")\n",
    "\n",
    "class child_class(Base_class_1, Base_class_2):\n",
    "    def func3(self):\n",
    "        print(\"This is the function of child class.\")\n",
    "\n",
    "obj_1 = child_class()\n",
    "obj_1.func1()\n",
    "obj_1.func2()\n",
    "obj_1.func3()\n",
    "\n"
   ]
  },
  {
   "cell_type": "code",
   "execution_count": 33,
   "id": "010c937a-3091-46ae-8f2a-9ecd74831ae6",
   "metadata": {},
   "outputs": [
    {
     "name": "stdout",
     "output_type": "stream",
     "text": [
      "Abhishek\n",
      "vaibhav\n",
      "Name must be at least 3 characters\n",
      "vaibhav\n"
     ]
    }
   ],
   "source": [
    "# Q4. What are getter and setter in python? Create a class and create a getter and a setter method in this class.\n",
    "\n",
    "# Ans: In python, the setter and getter method allow us to access the values of an object's properties , A getter is used to\n",
    "#      retrive the values of property, while setter is used to set the value of a property. By using it, we can control how an \n",
    "#     object's properties accessed and modified\n",
    "    \n",
    "#     Example of getter and setter methods:\n",
    "        \n",
    "class Person:\n",
    "    def __init__(self, name):\n",
    "        self._name = name\n",
    "\n",
    "    def get_name(self):\n",
    "        return self._name\n",
    "\n",
    "    def set_name(self, name):\n",
    "        if len(name) < 3:\n",
    "            print(\"Name must be at least 3 characters\")\n",
    "        else:\n",
    "            self._name = name\n",
    "\n",
    "    name = property(get_name, set_name)\n",
    "\n",
    "person = Person(\"Abhishek\")\n",
    "print(person.name) # John\n",
    "\n",
    "person.name = \"vaibhav\"\n",
    "print(person.name) # Jane\n",
    "\n",
    "person.name = \"Jo\"\n",
    "print(person.name) # Jane (The setter method prevented the name from being set to a value less than 3 characters)\n"
   ]
  },
  {
   "cell_type": "code",
   "execution_count": 3,
   "id": "905c3bac-7b78-4475-905e-d3108f11281e",
   "metadata": {},
   "outputs": [
    {
     "name": "stdout",
     "output_type": "stream",
     "text": [
      "This is the method of child or subclass\n"
     ]
    }
   ],
   "source": [
    "# Q5.What is method overriding in python? Write a python code to demonstrate method overriding.\n",
    "\n",
    "\n",
    "\n",
    "# Ans Method Overriding: It is a feature of object oriented programing, where a subclass provides a new implementation of\n",
    "#                         a method which already exist in parent class.The new implementation in subclass replace the\n",
    "#                         original implemantaion in parent class.This allows subclass to inherit the cherecteristics of parent\n",
    "#                         class.\n",
    "#             for Example:\n",
    "#                 we have two class 'parent' and 'child' in which child is the subclass of parent. In parent class we use a \n",
    "#                   method 'Introduction'and the child class overrides the method and provides its own implementation\n",
    "\n",
    "class parent:\n",
    "    def Introduction(self):\n",
    "        print(\"This is the method of parent class\")\n",
    "\n",
    "class child(parent):\n",
    "    def Introduction(self):\n",
    "        print(\"This is the method of child or subclass\")\n",
    "\n",
    "Intro = child()\n",
    "Intro.Introduction()\n",
    "\n",
    "                    "
   ]
  }
 ],
 "metadata": {
  "kernelspec": {
   "display_name": "Python 3 (ipykernel)",
   "language": "python",
   "name": "python3"
  },
  "language_info": {
   "codemirror_mode": {
    "name": "ipython",
    "version": 3
   },
   "file_extension": ".py",
   "mimetype": "text/x-python",
   "name": "python",
   "nbconvert_exporter": "python",
   "pygments_lexer": "ipython3",
   "version": "3.10.6"
  }
 },
 "nbformat": 4,
 "nbformat_minor": 5
}
